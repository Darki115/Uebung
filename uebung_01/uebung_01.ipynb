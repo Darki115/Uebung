{
 "cells": [
  {
   "cell_type": "markdown",
   "metadata": {},
   "source": [
    "### Aufgabe 1\n",
    "___"
   ]
  },
  {
   "cell_type": "code",
   "execution_count": null,
   "metadata": {},
   "outputs": [
    {
     "name": "stdout",
     "output_type": "stream",
     "text": [
      "7.0710678118654755\n"
     ]
    }
   ],
   "source": [
    "class vector3():\n",
    "    def __init__(self, x, y, z):\n",
    "        self.x = x\n",
    "        self.y = y\n",
    "        self.z = z\n",
    "\n",
    "    def leange(self):\n",
    "        return (self.x**2 + self.y**2 + self.z**2)**0.5\n",
    "    \n",
    "vect = vector3(3, 4, 5)\n",
    "print(vect.leange())"
   ]
  },
  {
   "cell_type": "markdown",
   "metadata": {},
   "source": [
    "### Aufgabe 2\n",
    "___"
   ]
  },
  {
   "cell_type": "code",
   "execution_count": null,
   "metadata": {},
   "outputs": [
    {
     "name": "stdout",
     "output_type": "stream",
     "text": [
      "0\n",
      "0\n",
      "45\n",
      "45\n"
     ]
    }
   ],
   "source": [
    "class WGS84_Koord():\n",
    "    def __init__(self, lat, lon):\n",
    "        self._longitude = 0\n",
    "        self._latitude = 0\n",
    "    \n",
    "    def get_latitude(self):\n",
    "        return self._latitude\n",
    "    \n",
    "    def get_longitude(self):\n",
    "        return self._longitude\n",
    "    \n",
    "    def set_latitude(self, lat):\n",
    "        if lat in range(-90, 90):\n",
    "            self._latitude = lat\n",
    "        else:\n",
    "            print(\"Invalid latitude\")\n",
    "\n",
    "    def set_longitude(self, lot):\n",
    "        if lot in range(-180, 180):\n",
    "            self._longitude = lot\n",
    "        else:\n",
    "            print(\"Invalid longitude\")\n",
    "\n",
    "\n",
    "koord = WGS84_Koord(0, 0)\n",
    "print(koord.get_latitude())\n",
    "print(koord.get_longitude())\n",
    "\n",
    "koord.set_longitude(45)\n",
    "koord.set_latitude(45)\n",
    "print(koord.get_latitude())\n",
    "print(koord.get_longitude())"
   ]
  }
 ],
 "metadata": {
  "kernelspec": {
   "display_name": "Python 3",
   "language": "python",
   "name": "python3"
  },
  "language_info": {
   "codemirror_mode": {
    "name": "ipython",
    "version": 3
   },
   "file_extension": ".py",
   "mimetype": "text/x-python",
   "name": "python",
   "nbconvert_exporter": "python",
   "pygments_lexer": "ipython3",
   "version": "3.13.0"
  }
 },
 "nbformat": 4,
 "nbformat_minor": 2
}
